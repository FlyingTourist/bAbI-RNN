{
 "cells": [
  {
   "cell_type": "markdown",
   "metadata": {},
   "source": [
    "## Data Augmentation\n",
    "\n",
    "### What\n",
    "Sometimes not enough data → can “augment” your data by transforming or adding noise and just using it as data for training. Example I can think of off the top of my head is like rotating an MNIST image\n",
    "Popular methods: horizontal flipping, random crops, and color jittering\n",
    "\n",
    "### Why\n",
    "Sometimes you just don’t have enough data :(  so it’s hard to train a model on limited data .Using Data Augmentation can help learn well with minimal data.\n",
    "\n",
    "### How\n",
    "[Link to code](http://machinelearningmastery.com/image-augmentation-deep-learning-keras/)\n",
    "ImageDataGenerator\n",
    "datagen = ImageDataGenerator(featurewise_center=True, featurewise_std_normalization=True)\n",
    "datagen = ImageDataGenerator(zca_whitening=True)\n",
    "datagen = ImageDataGenerator(rotation_range=90)\n",
    "datagen = ImageDataGenerator(width_shift_range=shift, height_shift_range=shift)\n",
    "datagen = ImageDataGenerator(horizontal_flip=True, vertical_flip=True)\n",
    " \n",
    "From https://blog.keras.io/building-powerful-image-classification-models-using-very-little-data.html : \n",
    "from keras.preprocessing.image import ImageDataGenerator import ImageDataGenerator, array_to_img, img_to_array, load_img\n",
    "\n",
    "datagen = ImageDataGenerator(\n",
    "        rotation_range=40, -- randomly rotates image between 0-40 degrees\n",
    "        width_shift_range=0.2,shifts image horizontally by 20% of the image height\n",
    "        height_shift_range=0.2,shifts image vertically by 20% of image height \n",
    "        rescale=1./255,scale RGB values 0-255 to 0-1\n",
    "        shear_range=0.2,https://en.wikipedia.org/wiki/Shear_mapping , etc etc you get the point \n",
    "        zoom_range=0.2,\n",
    "        horizontal_flip=True,\n",
    "        fill_mode='nearest')\n",
    " \n",
    "#### Examples of data augmentation on image data\n",
    "\n",
    "**Horizontally/Vertically Flipping**: \n",
    "Mirrors the image around a vertical/horizontal line running through its center\n",
    "**Color Jittering**: \n",
    "Basic summary of Krizhevsky et al. 2012 on ‘color jittering’ Treat every pixel in every image as a data point. This generates a ton of data points which are vectors with 3 values: R, G and B. You then want to compute PCA on these datapoints. This means you can compute the covariance matrix of these vectors, which is a 3x3 matrix.\n",
    " \n",
    "PCA will output 3 vectors with 3 components. You can then sample 3 scale parameters, and add scaled versions of each of these 3 vectors to all pixels in the image. For best results you should also scale them by the corresponding eigenvalues. This will perturb the image colours along these PCA axes.\n",
    " \n",
    "You could try combinations of multiple different processing, e.g., doing the rotation and random scaling at the same time.\n",
    "For regression, adding noise to the data is a way to augment it, u could create like several noise functions and then just add them to ur dataset and create a bunch of different datasets from the noise functions\n",
    " \n",
    " \n",
    " \n",
    "\n",
    " \n",
    "\n"
   ]
  },
  {
   "cell_type": "code",
   "execution_count": null,
   "metadata": {
    "collapsed": true
   },
   "outputs": [],
   "source": []
  }
 ],
 "metadata": {
  "kernelspec": {
   "display_name": "Python 3",
   "language": "python",
   "name": "python3"
  },
  "language_info": {
   "codemirror_mode": {
    "name": "ipython",
    "version": 3
   },
   "file_extension": ".py",
   "mimetype": "text/x-python",
   "name": "python",
   "nbconvert_exporter": "python",
   "pygments_lexer": "ipython3",
   "version": "3.6.0"
  }
 },
 "nbformat": 4,
 "nbformat_minor": 2
}
